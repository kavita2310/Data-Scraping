{
 "cells": [
  {
   "cell_type": "code",
   "execution_count": 1,
   "id": "b1cce4d7-8960-4b76-b16b-68fe7aaf8f3d",
   "metadata": {},
   "outputs": [],
   "source": [
    "import pandas as pd\n",
    "import requests\n",
    "from bs4 import BeautifulSoup"
   ]
  },
  {
   "cell_type": "code",
   "execution_count": 2,
   "id": "f040e23c-615e-446f-b5ea-cef97762928f",
   "metadata": {},
   "outputs": [],
   "source": [
    "url=\"https://www.flipkart.com/search?q=mobile+under+50000&otracker=search&otracker1=search&marketplace=FLIPKART&as-show=on&as=off&page=1\""
   ]
  },
  {
   "cell_type": "code",
   "execution_count": 3,
   "id": "9954cf41-0ffc-46ba-8810-e4275b12940f",
   "metadata": {},
   "outputs": [
    {
     "name": "stdout",
     "output_type": "stream",
     "text": [
      "<Response [200]>\n"
     ]
    }
   ],
   "source": [
    "r=requests.get(url)\n",
    "print(r)"
   ]
  },
  {
   "cell_type": "code",
   "execution_count": 4,
   "id": "15a6cd06-d90d-4f3a-b24f-6aaf7f98cfd9",
   "metadata": {},
   "outputs": [],
   "source": [
    "soup= BeautifulSoup(r.text, 'lxml')\n",
    "#print(soup)"
   ]
  },
  {
   "cell_type": "code",
   "execution_count": 22,
   "id": "7ec474db-a4d8-4e6a-b4c4-cca91f57054f",
   "metadata": {},
   "outputs": [],
   "source": [
    "for i in range(2,10):\n",
    "    url=\"https://www.flipkart.com/search?q=mobile+under+50000&otracker=search&otracker1=search&marketplace=FLIPKART&as-show=on&as=off&page=\"+str(i)\n",
    "    #print(url)\n",
    "\n",
    "    r=requests.get(url)\n",
    "    #print(r)\n",
    "    \n",
    "    soup=BeautifulSoup(r.text,'lxml')\n",
    "    #print(soup)\n",
    "\n",
    "\n",
    "    np=soup.find('a',class_='_9QVEpD').get('href')\n",
    "    cnp=\"https://www.flipkart.com\"+np\n",
    "    #print(cnp)\n",
    "\n",
    "\n",
    "    "
   ]
  },
  {
   "cell_type": "code",
   "execution_count": 23,
   "id": "982209e2-b08d-4cd2-8cc8-8b6802f4c742",
   "metadata": {},
   "outputs": [
    {
     "name": "stdout",
     "output_type": "stream",
     "text": [
      "<Response [200]>\n"
     ]
    }
   ],
   "source": [
    "url=\"https://www.flipkart.com/search?q=mobile+under+50000&otracker=search&otracker1=search&marketplace=FLIPKART&as-show=on&as=off&page=\"+str(1)\n",
    "r=requests.get(url)\n",
    "print(r)\n",
    "soup=BeautifulSoup(r.text,'lxml')\n",
    "#print(soup)"
   ]
  },
  {
   "cell_type": "code",
   "execution_count": 7,
   "id": "0ac2286f-4e06-4b37-8b20-1a89bbf941b2",
   "metadata": {},
   "outputs": [],
   "source": [
    "Product_name=[]"
   ]
  },
  {
   "cell_type": "code",
   "execution_count": 8,
   "id": "4f7afa7d-573c-4bd5-89d1-e22a7877457a",
   "metadata": {},
   "outputs": [],
   "source": [
    "box=soup.find('div',class_='DOjaWF gdgoEp')"
   ]
  },
  {
   "cell_type": "code",
   "execution_count": 9,
   "id": "8165987a-8caf-4e94-820f-d856186bcde9",
   "metadata": {},
   "outputs": [],
   "source": [
    "names=box.find_all('div',class_='KzDlHZ')"
   ]
  },
  {
   "cell_type": "code",
   "execution_count": 10,
   "id": "4f4d36ba-459e-49f3-9121-70a777de6df8",
   "metadata": {},
   "outputs": [
    {
     "name": "stdout",
     "output_type": "stream",
     "text": [
      "24\n"
     ]
    }
   ],
   "source": [
    "for i in names:\n",
    "    name=i.text\n",
    "    Product_name.append(name)\n",
    "print(len(Product_name))"
   ]
  },
  {
   "cell_type": "code",
   "execution_count": 11,
   "id": "5c6d7cc1-558d-4033-b2fa-c9c993ebb745",
   "metadata": {},
   "outputs": [],
   "source": [
    "Prices=[]"
   ]
  },
  {
   "cell_type": "code",
   "execution_count": 12,
   "id": "a6b9f5f3-fb37-428c-b540-175697fe2095",
   "metadata": {},
   "outputs": [],
   "source": [
    "prices=box.find_all('div',class_='Nx9bqj _4b5DiR')"
   ]
  },
  {
   "cell_type": "code",
   "execution_count": 13,
   "id": "2e6c99b0-1cf5-47d4-8821-dac692a85fb5",
   "metadata": {},
   "outputs": [
    {
     "name": "stdout",
     "output_type": "stream",
     "text": [
      "24\n"
     ]
    }
   ],
   "source": [
    "for i in prices:\n",
    "    name=i.text\n",
    "    Prices.append(name)\n",
    "print(len(Prices))"
   ]
  },
  {
   "cell_type": "code",
   "execution_count": 14,
   "id": "8d299a11-f46f-49f8-b7ee-879146d839cb",
   "metadata": {},
   "outputs": [],
   "source": [
    "desc=box.find_all('ul',class_='G4BRas')"
   ]
  },
  {
   "cell_type": "code",
   "execution_count": 15,
   "id": "a200dc8b-dfff-4886-a5fc-755f0103d412",
   "metadata": {},
   "outputs": [],
   "source": [
    "Description=[]"
   ]
  },
  {
   "cell_type": "code",
   "execution_count": 24,
   "id": "849399c9-6c2d-4c47-9b6f-1c164792e71c",
   "metadata": {},
   "outputs": [],
   "source": [
    "for i in desc:\n",
    "    name=i.text\n",
    "    Description.append(name)\n",
    "#print(Description)"
   ]
  },
  {
   "cell_type": "code",
   "execution_count": 17,
   "id": "1ae8d40f-844e-4695-91d6-de4a3246a801",
   "metadata": {},
   "outputs": [],
   "source": [
    "reviews=box.find_all('div',class_='XQDdHH')"
   ]
  },
  {
   "cell_type": "code",
   "execution_count": 18,
   "id": "2a39d782-42cd-461b-88bd-8d7253cf621d",
   "metadata": {},
   "outputs": [],
   "source": [
    "Reviews=[]"
   ]
  },
  {
   "cell_type": "code",
   "execution_count": 19,
   "id": "04109efd-81e7-426e-9cb4-2d3c4bb0035d",
   "metadata": {},
   "outputs": [
    {
     "name": "stdout",
     "output_type": "stream",
     "text": [
      "['4.4', '4.4', '4.5', '4.4', '4.4', '4.4', '4.3', '4.5', '4.4', '4.4', '4.5', '4.4', '4.4', '4.5', '4.3', '4.4', '4.2', '4.3', '4.3', '4.3', '4.5', '4.5', '4.6', '4.2']\n"
     ]
    }
   ],
   "source": [
    "for i in reviews:\n",
    "    name=i.text\n",
    "    Reviews.append(name)\n",
    "print(Reviews)"
   ]
  },
  {
   "cell_type": "code",
   "execution_count": 20,
   "id": "9cb07476-f04b-4927-9ac7-1ac369558501",
   "metadata": {},
   "outputs": [
    {
     "name": "stdout",
     "output_type": "stream",
     "text": [
      "                                          Product Name   Prices  \\\n",
      "0      Motorola Edge 50 Ultra 5G (Forest Grey, 512 GB)  ₹49,999   \n",
      "1      Motorola Edge 50 Ultra 5G (Nordic Wood, 512 GB)  ₹49,999   \n",
      "2                vivo V40 Pro 5G (Ganges Blue, 256 GB)  ₹49,999   \n",
      "3                        Google Pixel 8 (Mint, 128 GB)  ₹47,999   \n",
      "4                       Google Pixel 8 (Hazel, 256 GB)  ₹49,999   \n",
      "..                                                 ...      ...   \n",
      "235  Samsung Galaxy S21 FE 5G with Snapdragon 888 (...  ₹45,999   \n",
      "236             OnePlus 11 5G (Marble Odyssey, 256 GB)  ₹45,999   \n",
      "237                    vivo X80 (Cosmic Black, 256 GB)  ₹46,799   \n",
      "238                  Apple iPhone 8 Plus (Gold, 64 GB)  ₹49,900   \n",
      "239                OnePlus 10T 5G (Jade Green, 256 GB)  ₹48,990   \n",
      "\n",
      "                                           Description reviews  \n",
      "0    12 GB RAM | 512 GB ROM17.02 cm (6.7 inch) Disp...     4.4  \n",
      "1    12 GB RAM | 512 GB ROM17.02 cm (6.7 inch) Disp...     4.4  \n",
      "2    8 GB RAM | 256 GB ROM17.22 cm (6.78 inch) Full...     4.5  \n",
      "3    8 GB RAM | 128 GB ROM15.75 cm (6.2 inch) Full ...     4.4  \n",
      "4    8 GB RAM | 256 GB ROM15.75 cm (6.2 inch) Full ...     4.4  \n",
      "..                                                 ...     ...  \n",
      "235  8 GB RAM | 128 GB ROM16.26 cm (6.4 inch) Full ...     4.3  \n",
      "236  16 GB RAM | 256 GB ROM17.02 cm (6.7 inch) Disp...     4.5  \n",
      "237  12 GB RAM | 256 GB ROM17.22 cm (6.78 inch) Ful...     4.5  \n",
      "238  64 GB ROM13.97 cm (5.5 inch) Retina HD Display...     4.6  \n",
      "239  12 GB RAM | 256 GB ROM17.02 cm (6.7 inch) Disp...     4.2  \n",
      "\n",
      "[240 rows x 4 columns]\n"
     ]
    }
   ],
   "source": [
    "for i in range(2,11):\n",
    "    url='https://www.flipkart.com/search?q=mobile+under+50000&otracker=search&otracker1=search&marketplace=FLIPKART&as-show=on&as=off&page='+str(i)\n",
    "    #print(url)\n",
    "    r=requests.get(url)\n",
    "    #print(r)\n",
    "    \n",
    "    soup=BeautifulSoup(r.text,'lxml')\n",
    "    #print(soup)\n",
    "    Box=soup.find('div',class_='DOjaWF gdgoEp')\n",
    "    #print(Box)\n",
    "\n",
    "    \n",
    "    \n",
    "    \n",
    "    names=box.find_all('div',class_='KzDlHZ')\n",
    "    \n",
    "    for i in names:\n",
    "        name=i.text\n",
    "        Product_name.append(name)\n",
    "    #print(len(Product_name))\n",
    "    \n",
    "    \n",
    "    \n",
    "    prices=box.find_all('div',class_='Nx9bqj _4b5DiR')\n",
    "    \n",
    "    for i in prices:\n",
    "        name=i.text\n",
    "        Prices.append(name)\n",
    "    #print(len(Prices))\n",
    "    \n",
    "    desc=box.find_all('ul',class_='G4BRas')\n",
    "    \n",
    "    \n",
    "    \n",
    "    for i in desc:\n",
    "        name=i.text\n",
    "        Description.append(name)\n",
    "    #print(len(Description))\n",
    "    \n",
    "    reviews=box.find_all('div',class_='XQDdHH')\n",
    "    \n",
    "    \n",
    "    for i in reviews:\n",
    "        name=i.text\n",
    "        Reviews.append(name)\n",
    "    #print(Reviews)\n",
    "\n",
    "df1=pd.DataFrame({'Product Name':Product_name,'Prices':Prices,'Description':Description,'reviews':Reviews})\n",
    "print(df1)\n",
    "    "
   ]
  },
  {
   "cell_type": "code",
   "execution_count": 21,
   "id": "1077bb30-48c1-4df6-baa6-32efe624dcbe",
   "metadata": {},
   "outputs": [],
   "source": [
    "df1.to_csv('C:/Users/HP/Desktop/new folder/live project/flipkart_mobiles_under_50000.csv')"
   ]
  }
 ],
 "metadata": {
  "kernelspec": {
   "display_name": "Python 3 (ipykernel)",
   "language": "python",
   "name": "python3"
  },
  "language_info": {
   "codemirror_mode": {
    "name": "ipython",
    "version": 3
   },
   "file_extension": ".py",
   "mimetype": "text/x-python",
   "name": "python",
   "nbconvert_exporter": "python",
   "pygments_lexer": "ipython3",
   "version": "3.11.7"
  }
 },
 "nbformat": 4,
 "nbformat_minor": 5
}
